{
 "cells": [
  {
   "cell_type": "code",
   "execution_count": 7,
   "metadata": {},
   "outputs": [],
   "source": [
    "import tensorflow as tf\n",
    "import random\n",
    "import numpy as np\n",
    "import matplotlib.pyplot as plt\n",
    "import os \n",
    "import tempfile"
   ]
  },
  {
   "cell_type": "code",
   "execution_count": 4,
   "metadata": {},
   "outputs": [
    {
     "data": {
      "text/plain": [
       "'C:\\\\Users\\\\sutyl\\\\AppData\\\\Local\\\\Temp'"
      ]
     },
     "execution_count": 4,
     "metadata": {},
     "output_type": "execute_result"
    }
   ],
   "source": [
    "# Let's obtain a temporary storage directory\n",
    "model_directory = tempfile.gettempdir()\n",
    "model_directory"
   ]
  },
  {
   "cell_type": "code",
   "execution_count": 5,
   "metadata": {},
   "outputs": [],
   "source": [
    "# Let's specify the model version, let's choose 1\n",
    "version = 1"
   ]
  },
  {
   "cell_type": "code",
   "execution_count": 6,
   "metadata": {},
   "outputs": [
    {
     "name": "stdout",
     "output_type": "stream",
     "text": [
      "exprot_path = C:\\Users\\sutyl\\AppData\\Local\\Temp\\1\n"
     ]
    }
   ],
   "source": [
    "# Let's join the temp model directory with our chosen version number\n",
    "export_path = os.path.join(model_directory, str(version))\n",
    "print(f\"exprot_path = {export_path}\")"
   ]
  },
  {
   "cell_type": "markdown",
   "metadata": {},
   "source": [
    "## Explore our saved model"
   ]
  },
  {
   "cell_type": "markdown",
   "metadata": {},
   "source": [
    "- saved_model_cli will be used to explore MetaGraphDefs (the models) and the SignatureDefs (the methods you can call) in our SavedModel\n",
    "- A MetaGraph is a dataflow graph, plus its associated variables, assets, and signatures.\n",
    "- A signature is the set of inputs to an outputs from a graph"
   ]
  },
  {
   "cell_type": "code",
   "execution_count": null,
   "metadata": {},
   "outputs": [],
   "source": [
    "!saved_model_cli show --dir {\"food_not_food_model_B0\"} --all"
   ]
  },
  {
   "cell_type": "markdown",
   "metadata": {},
   "source": [
    "## Serve the model using Tensorflow Serving"
   ]
  },
  {
   "cell_type": "code",
   "execution_count": 4,
   "metadata": {},
   "outputs": [],
   "source": [
    "# Convert h5 --> saved_model.pb\n",
    "from tensorflow.keras.models import load_model\n",
    "model = load_model(\"model\\\\food_not_food_model_B0-V1.h5\")"
   ]
  },
  {
   "cell_type": "code",
   "execution_count": 8,
   "metadata": {},
   "outputs": [],
   "source": [
    "export_path = \"model\\\\serving\\\\1\""
   ]
  },
  {
   "cell_type": "code",
   "execution_count": null,
   "metadata": {},
   "outputs": [],
   "source": [
    "# simple save\n"
   ]
  }
 ],
 "metadata": {
  "kernelspec": {
   "display_name": "Python 3.9.12 ('ml')",
   "language": "python",
   "name": "python3"
  },
  "language_info": {
   "codemirror_mode": {
    "name": "ipython",
    "version": 3
   },
   "file_extension": ".py",
   "mimetype": "text/x-python",
   "name": "python",
   "nbconvert_exporter": "python",
   "pygments_lexer": "ipython3",
   "version": "3.9.12"
  },
  "orig_nbformat": 4,
  "vscode": {
   "interpreter": {
    "hash": "db9c5e734c6be09092103b64cdd5de4634025b6149e439930b56fa1ad2a2b58c"
   }
  }
 },
 "nbformat": 4,
 "nbformat_minor": 2
}
