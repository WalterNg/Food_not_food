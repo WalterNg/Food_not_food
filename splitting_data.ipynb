{
 "cells": [
  {
   "cell_type": "code",
   "execution_count": 27,
   "metadata": {},
   "outputs": [],
   "source": [
    "import os\n",
    "from shutil import copy2\n",
    "import random"
   ]
  },
  {
   "cell_type": "code",
   "execution_count": 28,
   "metadata": {},
   "outputs": [],
   "source": [
    "# Function to split train and test lists\n",
    "\n",
    "def create_train_test_list(target_dir):\n",
    "    random.seed(42)\n",
    "    image_list = [os.path.join(target_dir, img_path) for img_path in os.listdir(target_dir)] # path of each images \n",
    "    train_split = int(0.8 * len(image_list))\n",
    "    train_image_list = random.sample(image_list, train_split)\n",
    "    test_image_list = list(set(image_list).difference(set(train_image_list)))\n",
    "\n",
    "    return train_image_list, test_image_list\n"
   ]
  },
  {
   "cell_type": "code",
   "execution_count": 29,
   "metadata": {},
   "outputs": [],
   "source": [
    "def copy_images_to_file(img_path_list, target_dir, train=True):\n",
    "    if train:\n",
    "        split_dir = \"train\"\n",
    "    else:\n",
    "        split_dir = \"test\"\n",
    "\n",
    "    # Copy images\n",
    "    for image_path in img_path_list:\n",
    "        image_file_name = os.path.split(image_path)[-1]\n",
    "        dest_path = os.path.join(target_dir, split_dir, image_dir, image_file_name)\n",
    "        print(f\"Copying: {image_path} to {dest_path}\")\n",
    "        # copy2(image_path, dest_path)\n",
    "        "
   ]
  },
  {
   "cell_type": "code",
   "execution_count": 30,
   "metadata": {},
   "outputs": [],
   "source": [
    "# targ_dir = \"..\\\\data\\\\\"\n",
    "# food_dir = \"..\\data\\food\"\n",
    "# not_food_dir = \"../data/not_food\"\n",
    "# food_dir_train, food_dir_test = os.path.join(targ_dir, \"train\", \"food\"), os.path.join(\n",
    "#     targ_dir, \"test\", \"food\")\n",
    "\n",
    "# food_dir_train, food_dir_test"
   ]
  },
  {
   "cell_type": "code",
   "execution_count": null,
   "metadata": {},
   "outputs": [],
   "source": [
    "# Create a function to move images\n",
    "\n",
    "data_dir = \"101food\\\\food-101\\\\images\"\n",
    "target_dir = \"\\data_small_test\"\n",
    "\n",
    "for image_dir in [\"apple_pie\",\"baby_back_ribs\"]:\n",
    "# for image_dir in os.listdir(data_dir):\n",
    "    for split_dir in [\"train\",\"test\"]:\n",
    "        os.makedirs(os.path.join(target_dir, split_dir, image_dir), exist_ok=True)\n",
    "    \n",
    "    # Make training and and testing lists of target images\n",
    "    train_image_list, test_image_list = create_train_test_list(os.path.join(data_dir, image_dir))\n",
    "    \n",
    "    # # Copy training images\n",
    "    # copy_images_to_file(img_path_list=train_image_list,\n",
    "    #                     target_dir=target_dir,\n",
    "    #                     train=True)\n",
    "    \n",
    "    # # Copy testing images\n",
    "    # copy_images_to_file(img_path_list=test_image_list,\n",
    "    #                     target_dir=target_dir,\n",
    "    #                     train=False)"
   ]
  },
  {
   "cell_type": "code",
   "execution_count": null,
   "metadata": {},
   "outputs": [],
   "source": [
    "# Check for the number of images in a folder\n",
    "import os\n",
    "food_image_paths = []\n",
    "for dir, sub_dir, files in os.walk(\"101food\\\\food-101\\\\images\"):\n",
    "    for file in files:\n",
    "        food_image_paths.append(os.path.join(dir,file))\n",
    "len(food_image_paths)"
   ]
  },
  {
   "cell_type": "markdown",
   "metadata": {},
   "source": [
    "## Extract 50000 food images to upload to gg drive"
   ]
  },
  {
   "cell_type": "code",
   "execution_count": 1,
   "metadata": {},
   "outputs": [],
   "source": [
    "import os\n",
    "from shutil import copy2\n",
    "import random"
   ]
  },
  {
   "cell_type": "code",
   "execution_count": null,
   "metadata": {},
   "outputs": [
    {
     "name": "stdout",
     "output_type": "stream",
     "text": [
      "['apple_pie', 'baby_back_ribs', 'baklava', 'beef_carpaccio', 'beef_tartare']\n",
      "['101food\\\\food-101\\\\images\\\\apple_pie\\\\1005649.jpg', '101food\\\\food-101\\\\images\\\\apple_pie\\\\1011328.jpg', '101food\\\\food-101\\\\images\\\\apple_pie\\\\101251.jpg', '101food\\\\food-101\\\\images\\\\apple_pie\\\\1014775.jpg', '101food\\\\food-101\\\\images\\\\apple_pie\\\\1026328.jpg']\n"
     ]
    },
    {
     "data": {
      "text/plain": [
       "(50000, 50)"
      ]
     },
     "execution_count": 2,
     "metadata": {},
     "output_type": "execute_result"
    }
   ],
   "source": [
    "food_to_upload = []\n",
    "image_dirs = []\n",
    "count = 0\n",
    "for dir, sub_dir, files in os.walk(\"101food\\\\food-101\\\\images\"):\n",
    "    image_dirs.append(os.path.split(dir)[-1])\n",
    "    for file in files:\n",
    "        food_to_upload.append(os.path.join(dir, file))\n",
    "        count += 1\n",
    "    if count == 50000:        \n",
    "        break\n",
    "# print(food_to_upload[-5:])\n",
    "image_dirs.pop(0)\n",
    "print(image_dirs[:5])\n",
    "print(food_to_upload[:5])\n",
    "len(food_to_upload), len(image_dirs)"
   ]
  },
  {
   "cell_type": "code",
   "execution_count": 34,
   "metadata": {},
   "outputs": [
    {
     "data": {
      "text/plain": [
       "['\\\\data_small_test\\\\test',\n",
       " '\\\\data_small_test\\\\test\\\\apple_pie',\n",
       " '\\\\data_small_test\\\\test\\\\baby_back_ribs',\n",
       " '\\\\data_small_test\\\\train',\n",
       " '\\\\data_small_test\\\\train\\\\apple_pie']"
      ]
     },
     "execution_count": 34,
     "metadata": {},
     "output_type": "execute_result"
    }
   ],
   "source": [
    "target_folder_list = []\n",
    "for dir, sub_dir, files in os.walk(target_dir):\n",
    "    target_folder_list.append(dir)\n",
    "\n",
    "target_folder_list.pop(0)\n",
    "target_folder_list[:5]"
   ]
  },
  {
   "cell_type": "code",
   "execution_count": 41,
   "metadata": {},
   "outputs": [
    {
     "data": {
      "text/plain": [
       "50000"
      ]
     },
     "execution_count": 41,
     "metadata": {},
     "output_type": "execute_result"
    }
   ],
   "source": [
    "target_folders = []\n",
    "image_file_name_list = []\n",
    "for image_dir in food_to_upload:\n",
    "    image_file_name_list.append(os.path.split(image_dir)[-1])\n",
    "    temp = os.path.split(image_dir)[-2]\n",
    "    folds = os.path.split(temp)[-1]\n",
    "    target_folders.append(folds)\n",
    "\n",
    "len(target_folders)"
   ]
  },
  {
   "cell_type": "code",
   "execution_count": null,
   "metadata": {},
   "outputs": [],
   "source": [
    "data_dir = \"101food\\\\food-101\\\\images\"\n",
    "target_dir = \"\\data_to_upload\"\n",
    "\n",
    "for image_dir in image_dirs:\n",
    "    os.makedirs(os.path.join(target_dir, image_dir), exist_ok=True)\n",
    "\n",
    "for i in range(len(food_to_upload)):\n",
    "    image_path = food_to_upload[i]\n",
    "    dest_path = os.path.join(target_dir, target_folders[i], image_file_name_list[i])\n",
    "            \n",
    "    print(f\"Copying: {image_path} to {dest_path}\")\n",
    "    # copy2(image_path, dest_path)"
   ]
  },
  {
   "cell_type": "markdown",
   "metadata": {},
   "source": [
    "---------------------------------------------------------------------------------"
   ]
  },
  {
   "cell_type": "code",
   "execution_count": 1,
   "metadata": {},
   "outputs": [],
   "source": [
    "# Length checking function\n",
    "def length_check(dir=dir):\n",
    "    import os\n",
    "    file_count = sum(len(files) for _, _, files in os.walk(dir))\n",
    "    return file_count"
   ]
  },
  {
   "cell_type": "code",
   "execution_count": 2,
   "metadata": {},
   "outputs": [
    {
     "data": {
      "text/plain": [
       "2"
      ]
     },
     "execution_count": 2,
     "metadata": {},
     "output_type": "execute_result"
    }
   ],
   "source": [
    "length_check(\"D:\\Programming\\Code Workplace\\Python\\MyProjects\\Food_not_food\\model\")"
   ]
  },
  {
   "cell_type": "code",
   "execution_count": 3,
   "metadata": {},
   "outputs": [],
   "source": [
    "# Size checking function\n",
    "import os\n",
    "def get_size(start_path = '.'):\n",
    "    total_size = 0\n",
    "    for dirpath, dirnames, filenames in os.walk(start_path):\n",
    "        for f in filenames:\n",
    "            fp = os.path.join(dirpath, f)\n",
    "            # skip if it is symbolic link\n",
    "            if not os.path.islink(fp):\n",
    "                total_size += os.path.getsize(fp)\n",
    "\n",
    "    return total_size"
   ]
  },
  {
   "cell_type": "code",
   "execution_count": 4,
   "metadata": {},
   "outputs": [
    {
     "name": "stdout",
     "output_type": "stream",
     "text": [
      "2841891991 bytes\n"
     ]
    }
   ],
   "source": [
    "print(get_size(\"data\\\\train\"), 'bytes')"
   ]
  },
  {
   "cell_type": "code",
   "execution_count": 2,
   "metadata": {},
   "outputs": [
    {
     "ename": "KeyError",
     "evalue": "0",
     "output_type": "error",
     "traceback": [
      "\u001b[1;31m---------------------------------------------------------------------------\u001b[0m",
      "\u001b[1;31mKeyError\u001b[0m                                  Traceback (most recent call last)",
      "\u001b[1;32md:\\Programming\\Code Workplace\\Python\\MyProjects\\Food_not_food\\splitting_data.ipynb Cell 15'\u001b[0m in \u001b[0;36m<cell line: 2>\u001b[1;34m()\u001b[0m\n\u001b[0;32m      <a href='vscode-notebook-cell:/d%3A/Programming/Code%20Workplace/Python/MyProjects/Food_not_food/splitting_data.ipynb#ch0000014?line=0'>1</a>\u001b[0m classes \u001b[39m=\u001b[39m {\u001b[39m'\u001b[39m\u001b[39mkey1\u001b[39m\u001b[39m'\u001b[39m: \u001b[39m'\u001b[39m\u001b[39mFood\u001b[39m\u001b[39m'\u001b[39m, \u001b[39m'\u001b[39m\u001b[39mkey2\u001b[39m\u001b[39m'\u001b[39m: \u001b[39m\"\u001b[39m\u001b[39mCar\u001b[39m\u001b[39m\"\u001b[39m, \u001b[39m'\u001b[39m\u001b[39mkey3\u001b[39m\u001b[39m'\u001b[39m: \u001b[39m\"\u001b[39m\u001b[39mPlane\u001b[39m\u001b[39m\"\u001b[39m}\n\u001b[1;32m----> <a href='vscode-notebook-cell:/d%3A/Programming/Code%20Workplace/Python/MyProjects/Food_not_food/splitting_data.ipynb#ch0000014?line=1'>2</a>\u001b[0m classes[\u001b[39m0\u001b[39;49m]\n",
      "\u001b[1;31mKeyError\u001b[0m: 0"
     ]
    }
   ],
   "source": [
    "classes = {'key1': 'Food', 'key2': \"Car\", 'key3': \"Plane\"}\n",
    "classes[0]"
   ]
  },
  {
   "cell_type": "code",
   "execution_count": null,
   "metadata": {},
   "outputs": [],
   "source": []
  }
 ],
 "metadata": {
  "kernelspec": {
   "display_name": "Python 3.9.12 ('ml')",
   "language": "python",
   "name": "python3"
  },
  "language_info": {
   "codemirror_mode": {
    "name": "ipython",
    "version": 3
   },
   "file_extension": ".py",
   "mimetype": "text/x-python",
   "name": "python",
   "nbconvert_exporter": "python",
   "pygments_lexer": "ipython3",
   "version": "3.9.12"
  },
  "orig_nbformat": 4,
  "vscode": {
   "interpreter": {
    "hash": "db9c5e734c6be09092103b64cdd5de4634025b6149e439930b56fa1ad2a2b58c"
   }
  }
 },
 "nbformat": 4,
 "nbformat_minor": 2
}
